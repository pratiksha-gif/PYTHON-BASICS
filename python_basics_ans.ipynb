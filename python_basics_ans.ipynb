{
  "nbformat": 4,
  "nbformat_minor": 0,
  "metadata": {
    "colab": {
      "provenance": []
    },
    "kernelspec": {
      "name": "python3",
      "display_name": "Python 3"
    },
    "language_info": {
      "name": "python"
    }
  },
  "cells": [
    {
      "cell_type": "markdown",
      "source": [],
      "metadata": {
        "id": "her0h4cRpM1n"
      }
    },
    {
      "cell_type": "markdown",
      "source": [],
      "metadata": {
        "id": "bZhJrDLY5APn"
      }
    },
    {
      "cell_type": "markdown",
      "source": [],
      "metadata": {
        "id": "d2_wDVDlpY4l"
      }
    },
    {
      "cell_type": "markdown",
      "source": [
        "Q1)Python is a programming language that is easy to understand and write.\n",
        "It is popular because it is compatible with various programming paradigms, such as procedural,object oriented and functional programming.\n",
        "\n",
        "Q2)A python interpreter is a computer program that translates Python code into machine code so that a computer can understand and execute it.\n",
        "\n",
        "Q3)Keywords are reserved words in python that have special meanings and cannot be used as identifier (variable names, function names etc).\n",
        "The example of predefined keywords are if, else, while, for,def,class, import,try,except,return, true, false etc.\n",
        "\n",
        "Q4)No keywords cannot be used as a variable names.\n",
        "\n",
        "Q5)Mutability in python refers to the ability of an object to be changed after it is created. Mutable objects such as lists and dictionaries can be modified after creation. Mutability affects how objects are stored and manipulated in memory, impacting performance, memory usage, and concurrency in python programs.\n",
        "\n",
        "Q6)List is mutable because it can be changed whereas tuples are immutable as they cannot be changed.\n",
        "\n",
        "Q7)== is a comparision operator and 'is'is a logical operators.\n",
        "\n",
        "Q8)Logicals operators in python are 'ans', 'or', 'not', 'is,.\n",
        "\n",
        "Q9)Type casting is the process of changing the data type of value or object.\n",
        "\n",
        "Q10)The difference between implicit and explicit type casting is :\n",
        "in implicit typecasting python understands the data type whereas in explicit type casting convert data type using inbuilt function such as float(), integer(), string() etc.\n",
        "\n",
        "Q11)The purpose of having conditional statements in python is to execute code based on the evaluation of one or more conditions.\n",
        "\n",
        "Q12)In python 'elif' is short for \"else if\" and is used when the first if statement isn't true, but  want to check for another condition.\n",
        "\n",
        "Q13)The difference between 'for'and 'while' loop is\n",
        "'while' loop repeteadly eecutes a block of code until a condition is met, whereas a 'for' loop iterate over a sequence of elements such as string, list.\n",
        "\n",
        "Q14)"
      ],
      "metadata": {
        "id": "JUFFuUsghL6v"
      }
    },
    {
      "cell_type": "code",
      "execution_count": null,
      "metadata": {
        "id": "IQsmeu22pK9e"
      },
      "outputs": [],
      "source": []
    },
    {
      "cell_type": "markdown",
      "source": [
        "                      PYTHON PRACTICAL QUESTIONS"
      ],
      "metadata": {
        "id": "BJ_uNpOX5B__"
      }
    },
    {
      "cell_type": "code",
      "source": [],
      "metadata": {
        "id": "NoORBvnR5tEq"
      },
      "execution_count": null,
      "outputs": []
    },
    {
      "cell_type": "markdown",
      "source": [
        "Q1)"
      ],
      "metadata": {
        "id": "YwdfybOj5xYF"
      }
    },
    {
      "cell_type": "code",
      "source": [
        "print(\"hello world\")\n"
      ],
      "metadata": {
        "colab": {
          "base_uri": "https://localhost:8080/"
        },
        "id": "XO4FEcF5523d",
        "outputId": "6ef91d3a-5add-4f29-f18e-52688e566262"
      },
      "execution_count": null,
      "outputs": [
        {
          "output_type": "stream",
          "name": "stdout",
          "text": [
            "hello world\n"
          ]
        }
      ]
    },
    {
      "cell_type": "markdown",
      "source": [
        "Q2)"
      ],
      "metadata": {
        "id": "PXhkEscD6QFn"
      }
    },
    {
      "cell_type": "code",
      "source": [
        "input(\"please enter your name\")"
      ],
      "metadata": {
        "colab": {
          "base_uri": "https://localhost:8080/",
          "height": 53
        },
        "id": "1KMrsipN6UZG",
        "outputId": "a89fec9c-5771-4feb-bbc5-6a249521687f"
      },
      "execution_count": null,
      "outputs": [
        {
          "name": "stdout",
          "output_type": "stream",
          "text": [
            "please enter your name Pratiksha Sharma\n"
          ]
        },
        {
          "output_type": "execute_result",
          "data": {
            "text/plain": [
              "' Pratiksha Sharma'"
            ],
            "application/vnd.google.colaboratory.intrinsic+json": {
              "type": "string"
            }
          },
          "metadata": {},
          "execution_count": 3
        }
      ]
    },
    {
      "cell_type": "code",
      "source": [
        "input(\"please enter your age\")"
      ],
      "metadata": {
        "colab": {
          "base_uri": "https://localhost:8080/",
          "height": 53
        },
        "id": "t2T_Lz8M8iON",
        "outputId": "80a02f2a-0e52-4454-b8cc-bf8b36146851"
      },
      "execution_count": null,
      "outputs": [
        {
          "name": "stdout",
          "output_type": "stream",
          "text": [
            "please enter your age24\n"
          ]
        },
        {
          "output_type": "execute_result",
          "data": {
            "text/plain": [
              "'24'"
            ],
            "application/vnd.google.colaboratory.intrinsic+json": {
              "type": "string"
            }
          },
          "metadata": {},
          "execution_count": 4
        }
      ]
    },
    {
      "cell_type": "code",
      "source": [],
      "metadata": {
        "id": "l3xdN3h08ya2"
      },
      "execution_count": null,
      "outputs": []
    },
    {
      "cell_type": "markdown",
      "source": [
        "Q3)"
      ],
      "metadata": {
        "id": "kF7CSEXI8uBh"
      }
    },
    {
      "cell_type": "code",
      "source": [
        "\n",
        "temp=30\n",
        "if temp>25:\n",
        "  print(\"room temp\")"
      ],
      "metadata": {
        "colab": {
          "base_uri": "https://localhost:8080/"
        },
        "id": "lokuoGwx81Jo",
        "outputId": "6b319848-de5b-4946-f2b9-e761f5b45d63"
      },
      "execution_count": null,
      "outputs": [
        {
          "output_type": "stream",
          "name": "stdout",
          "text": [
            "room temp\n"
          ]
        }
      ]
    },
    {
      "cell_type": "markdown",
      "source": [],
      "metadata": {
        "id": "RxChUoExDxKn"
      }
    },
    {
      "cell_type": "code",
      "source": [
        "if weather==\"not rainy\" ##If weather is not rainy, i will  go to play cricket else i will watch tv\n",
        "print(\"i will play cricket\")\n",
        "else:\n",
        "  print(\"i will not watch TV\")"
      ],
      "metadata": {
        "colab": {
          "base_uri": "https://localhost:8080/",
          "height": 106
        },
        "id": "EgNlkHdW-dHk",
        "outputId": "4f525c05-4e15-4e9f-95f8-2498676c5c1b"
      },
      "execution_count": null,
      "outputs": [
        {
          "output_type": "error",
          "ename": "SyntaxError",
          "evalue": "expected ':' (<ipython-input-11-998c8c79b9bc>, line 1)",
          "traceback": [
            "\u001b[0;36m  File \u001b[0;32m\"<ipython-input-11-998c8c79b9bc>\"\u001b[0;36m, line \u001b[0;32m1\u001b[0m\n\u001b[0;31m    if weather==\"not rainy\" ##If weather is not rainy, i will  go to play cricket else i will watch tv\u001b[0m\n\u001b[0m                            ^\u001b[0m\n\u001b[0;31mSyntaxError\u001b[0m\u001b[0;31m:\u001b[0m expected ':'\n"
          ]
        }
      ]
    },
    {
      "cell_type": "code",
      "source": [
        "#to check if a no. is even\n",
        "6%2\n",
        "0\n"
      ],
      "metadata": {
        "id": "qK-gjLzwE0up"
      },
      "execution_count": null,
      "outputs": []
    },
    {
      "cell_type": "code",
      "source": [
        "num=4\n",
        "if num %2==0:\n",
        "  print(\"even\")\n",
        "\n",
        "else:\n",
        "   print(\"odd\")"
      ],
      "metadata": {
        "colab": {
          "base_uri": "https://localhost:8080/"
        },
        "id": "LPkPfAv2Guap",
        "outputId": "b2cfba39-6a83-4a46-c001-00626db2e105"
      },
      "execution_count": null,
      "outputs": [
        {
          "output_type": "stream",
          "name": "stdout",
          "text": [
            "even\n"
          ]
        }
      ]
    },
    {
      "cell_type": "code",
      "source": [],
      "metadata": {
        "colab": {
          "base_uri": "https://localhost:8080/",
          "height": 106
        },
        "id": "AYKWNV5OHgZV",
        "outputId": "953095f7-1260-4f40-946d-229063f84aa8"
      },
      "execution_count": null,
      "outputs": [
        {
          "output_type": "error",
          "ename": "SyntaxError",
          "evalue": "invalid syntax (<ipython-input-16-1e43dc212255>, line 1)",
          "traceback": [
            "\u001b[0;36m  File \u001b[0;32m\"<ipython-input-16-1e43dc212255>\"\u001b[0;36m, line \u001b[0;32m1\u001b[0m\n\u001b[0;31m    else:\u001b[0m\n\u001b[0m    ^\u001b[0m\n\u001b[0;31mSyntaxError\u001b[0m\u001b[0;31m:\u001b[0m invalid syntax\n"
          ]
        }
      ]
    },
    {
      "cell_type": "code",
      "source": [
        "n=7\n",
        "i=1\n",
        "while i>n:\n",
        " print(i)\n",
        "i=i+1\n"
      ],
      "metadata": {
        "id": "KWwCEj79K1mv"
      },
      "execution_count": null,
      "outputs": []
    },
    {
      "cell_type": "code",
      "source": [
        "l=[1,2,\"ajay\",\"pwskills\"]\n",
        "for i in l:\n",
        "  print(i)"
      ],
      "metadata": {
        "colab": {
          "base_uri": "https://localhost:8080/"
        },
        "id": "xl__qckmMJgJ",
        "outputId": "eceef405-b26b-46fb-d518-be2d7a3e9125"
      },
      "execution_count": null,
      "outputs": [
        {
          "output_type": "stream",
          "name": "stdout",
          "text": [
            "1\n",
            "2\n",
            "ajay\n",
            "pwskills\n"
          ]
        }
      ]
    },
    {
      "cell_type": "code",
      "source": [
        "a=\"2\" #string to integer\n",
        "print(type(a))\n",
        "print(type(int(a)))"
      ],
      "metadata": {
        "colab": {
          "base_uri": "https://localhost:8080/"
        },
        "id": "SypA0GwdNhHL",
        "outputId": "92f479b3-26f4-4947-bfb6-d4a19097a861"
      },
      "execution_count": null,
      "outputs": [
        {
          "output_type": "stream",
          "name": "stdout",
          "text": [
            "<class 'str'>\n",
            "<class 'int'>\n"
          ]
        }
      ]
    },
    {
      "cell_type": "code",
      "source": [
        "c=False\n",
        "type(c)"
      ],
      "metadata": {
        "colab": {
          "base_uri": "https://localhost:8080/"
        },
        "id": "q62lMKlqRFMU",
        "outputId": "03c53dd4-ab7a-4976-d613-a74c5cc908f1"
      },
      "execution_count": null,
      "outputs": [
        {
          "output_type": "execute_result",
          "data": {
            "text/plain": [
              "bool"
            ]
          },
          "metadata": {},
          "execution_count": 28
        }
      ]
    },
    {
      "cell_type": "code",
      "source": [
        "d=True\n",
        "type(d)"
      ],
      "metadata": {
        "colab": {
          "base_uri": "https://localhost:8080/"
        },
        "id": "geKTabE5ReBY",
        "outputId": "a8203d69-ef16-4313-b422-4390fc24f738"
      },
      "execution_count": null,
      "outputs": [
        {
          "output_type": "execute_result",
          "data": {
            "text/plain": [
              "bool"
            ]
          },
          "metadata": {},
          "execution_count": 29
        }
      ]
    },
    {
      "cell_type": "code",
      "source": [
        "a=None\n",
        "type(a)"
      ],
      "metadata": {
        "colab": {
          "base_uri": "https://localhost:8080/"
        },
        "id": "ozs3hNGURo9x",
        "outputId": "8e779420-d9e9-484b-ed05-ffbd088f128c"
      },
      "execution_count": null,
      "outputs": [
        {
          "output_type": "execute_result",
          "data": {
            "text/plain": [
              "NoneType"
            ]
          },
          "metadata": {},
          "execution_count": 30
        }
      ]
    },
    {
      "cell_type": "markdown",
      "source": [
        "Q4)"
      ],
      "metadata": {
        "id": "Xp2trco0R4eh"
      }
    },
    {
      "cell_type": "code",
      "source": [],
      "metadata": {
        "colab": {
          "base_uri": "https://localhost:8080/",
          "height": 106
        },
        "id": "K97EW98fSCje",
        "outputId": "60d45eb6-35fd-4ee1-da7e-f52e65d8122c"
      },
      "execution_count": null,
      "outputs": [
        {
          "output_type": "error",
          "ename": "IndentationError",
          "evalue": "expected an indented block after 'if' statement on line 3 (<ipython-input-47-57ac92061ec8>, line 4)",
          "traceback": [
            "\u001b[0;36m  File \u001b[0;32m\"<ipython-input-47-57ac92061ec8>\"\u001b[0;36m, line \u001b[0;32m4\u001b[0m\n\u001b[0;31m    continue\u001b[0m\n\u001b[0m    ^\u001b[0m\n\u001b[0;31mIndentationError\u001b[0m\u001b[0;31m:\u001b[0m expected an indented block after 'if' statement on line 3\n"
          ]
        }
      ]
    },
    {
      "cell_type": "code",
      "source": [
        "for i in \"pwskills\":\n",
        "  print(i)"
      ],
      "metadata": {
        "colab": {
          "base_uri": "https://localhost:8080/"
        },
        "id": "Hs3cXakuYTTz",
        "outputId": "fe85ca32-be00-45c5-fd9a-5d5a47ea4ad1"
      },
      "execution_count": null,
      "outputs": [
        {
          "output_type": "stream",
          "name": "stdout",
          "text": [
            "p\n",
            "w\n",
            "s\n",
            "k\n",
            "i\n",
            "l\n",
            "l\n",
            "s\n"
          ]
        }
      ]
    },
    {
      "cell_type": "code",
      "source": [],
      "metadata": {
        "id": "BdBQo3VLaipP"
      },
      "execution_count": null,
      "outputs": []
    },
    {
      "cell_type": "markdown",
      "source": [
        "Q5)"
      ],
      "metadata": {
        "id": "KJicbki2akD8"
      }
    },
    {
      "cell_type": "code",
      "source": [
        "list_cont = [1,2,3,4,3.5]\n",
        "list_cont"
      ],
      "metadata": {
        "colab": {
          "base_uri": "https://localhost:8080/"
        },
        "id": "zoAeMdGXapmo",
        "outputId": "e020ee88-b74d-4279-c105-a2896a18d61c"
      },
      "execution_count": null,
      "outputs": [
        {
          "output_type": "execute_result",
          "data": {
            "text/plain": [
              "[1, 2, 3, 4, 3.5]"
            ]
          },
          "metadata": {},
          "execution_count": 49
        }
      ]
    },
    {
      "cell_type": "code",
      "source": [
        "list_cont[3]"
      ],
      "metadata": {
        "colab": {
          "base_uri": "https://localhost:8080/"
        },
        "id": "pgBa7XWLcdQ8",
        "outputId": "fbdd140d-a0d0-408f-d6c6-85d7fdfe4e16"
      },
      "execution_count": null,
      "outputs": [
        {
          "output_type": "execute_result",
          "data": {
            "text/plain": [
              "4"
            ]
          },
          "metadata": {},
          "execution_count": 51
        }
      ]
    },
    {
      "cell_type": "code",
      "source": [
        "list_cont[3]=4.5\n",
        "list_cont"
      ],
      "metadata": {
        "colab": {
          "base_uri": "https://localhost:8080/"
        },
        "id": "k3n56WcMczme",
        "outputId": "a4a4ead1-a1fb-4688-df2b-11958445ae27"
      },
      "execution_count": null,
      "outputs": [
        {
          "output_type": "execute_result",
          "data": {
            "text/plain": [
              "[1, 2, 3, 4.5, 3.5]"
            ]
          },
          "metadata": {},
          "execution_count": 53
        }
      ]
    },
    {
      "cell_type": "markdown",
      "source": [
        "Q6)"
      ],
      "metadata": {
        "id": "242_LUJ4dFu0"
      }
    },
    {
      "cell_type": "code",
      "source": [
        "def demostrate_mutable_and_immutable(mutable_arg, immutable_arg):\n",
        "  print(\"initial values:\")\n",
        "  print(f\"mutable arguments(list): {mutable_arg}\")\n",
        "  print(f\"immutable argument (integer):  {immutable_arg}\")\n",
        "\n",
        "\n",
        "\n",
        "  #modify mutable argument\n",
        "  mutable_arg.append(200)\n",
        "\n",
        "  #modify the  immutable argumnet\n",
        "  immutable_arg +=200\n",
        "\n",
        "  print(\"\\nAfter modification inside the function:\")\n",
        "  print(f\"mutable argument(list): {mutable_arg}\")\n",
        "  print(f\"immutable argument(integer): {immutable_arg}\")\n",
        "\n",
        "  #main code\n",
        "  my_list=[1,2,3] #mutable object(list)\n",
        "  my_number=10    #immutable objec(integer)\n",
        "\n",
        "  print(\"before function call:\")\n",
        "  print(f\"list\")\n",
        "  print(f\"number\")"
      ],
      "metadata": {
        "id": "su-E7fwedJtl"
      },
      "execution_count": 6,
      "outputs": []
    },
    {
      "cell_type": "code",
      "source": [],
      "metadata": {
        "id": "J3dMbWGtV7ey"
      },
      "execution_count": null,
      "outputs": []
    },
    {
      "cell_type": "markdown",
      "source": [
        "Q7)\n",
        "SAME AS ANS NUMBER 6"
      ],
      "metadata": {
        "id": "q2ZLEqqYV5Yl"
      }
    },
    {
      "cell_type": "code",
      "source": [],
      "metadata": {
        "id": "fUEnBx1VWLaR"
      },
      "execution_count": null,
      "outputs": []
    },
    {
      "cell_type": "markdown",
      "source": [
        "Q8)"
      ],
      "metadata": {
        "id": "YT5je3QtWN5P"
      }
    },
    {
      "cell_type": "code",
      "source": [
        " demostrate_use_of_logical_operators\n"
      ],
      "metadata": {
        "colab": {
          "base_uri": "https://localhost:8080/",
          "height": 141
        },
        "id": "1LOq1A4wWRAT",
        "outputId": "3c917489-076f-4a1f-f7e5-ec4271872cb1"
      },
      "execution_count": 8,
      "outputs": [
        {
          "output_type": "error",
          "ename": "NameError",
          "evalue": "name 'demostrate_use_of_logical_operators' is not defined",
          "traceback": [
            "\u001b[0;31m---------------------------------------------------------------------------\u001b[0m",
            "\u001b[0;31mNameError\u001b[0m                                 Traceback (most recent call last)",
            "\u001b[0;32m<ipython-input-8-9b16b37da07e>\u001b[0m in \u001b[0;36m<cell line: 1>\u001b[0;34m()\u001b[0m\n\u001b[0;32m----> 1\u001b[0;31m \u001b[0mdemostrate_use_of_logical_operators\u001b[0m\u001b[0;34m\u001b[0m\u001b[0;34m\u001b[0m\u001b[0m\n\u001b[0m",
            "\u001b[0;31mNameError\u001b[0m: name 'demostrate_use_of_logical_operators' is not defined"
          ]
        }
      ]
    },
    {
      "cell_type": "code",
      "source": [],
      "metadata": {
        "id": "fHOVWnH5V8Vs"
      },
      "execution_count": null,
      "outputs": []
    },
    {
      "cell_type": "markdown",
      "source": [],
      "metadata": {
        "id": "8gdLWlmMWFRT"
      }
    },
    {
      "cell_type": "code",
      "source": [
        "#logical operators demostration:\n",
        "#define variables\n",
        "x = True\n",
        "y = False\n",
        "z = 10\n",
        "\n",
        "\n",
        "#AND Operators:\n",
        "x and y: False\n",
        "x and True: True\n",
        "z > 5 and z > 15: True\n",
        "\n",
        "\n",
        "#OR operators:\n",
        "x or y: True\n",
        "y or False: False\n",
        "z > 5 or z > 15: True\n",
        "\n",
        "#NOT Operators:\n",
        "not x: False\n",
        "not y: True\n",
        "not (z > 5): False\n",
        "\n",
        "\n",
        "#COMBINATION Operators:\n",
        "(x and y) or (z > 5): True\n",
        "not y and (z == 10): True"
      ],
      "metadata": {
        "colab": {
          "base_uri": "https://localhost:8080/",
          "height": 106
        },
        "id": "Lm4PXgKZXDPi",
        "outputId": "5738277b-d1ae-464b-90d5-2f4bf995d2ab"
      },
      "execution_count": 22,
      "outputs": [
        {
          "output_type": "error",
          "ename": "SyntaxError",
          "evalue": "illegal target for annotation (<ipython-input-22-9dae3b9c05a0>, line 9)",
          "traceback": [
            "\u001b[0;36m  File \u001b[0;32m\"<ipython-input-22-9dae3b9c05a0>\"\u001b[0;36m, line \u001b[0;32m9\u001b[0m\n\u001b[0;31m    x and y: True\u001b[0m\n\u001b[0m    ^\u001b[0m\n\u001b[0;31mSyntaxError\u001b[0m\u001b[0;31m:\u001b[0m illegal target for annotation\n"
          ]
        }
      ]
    },
    {
      "cell_type": "markdown",
      "source": [
        "Q9)"
      ],
      "metadata": {
        "id": "korQcj80iyVF"
      }
    },
    {
      "cell_type": "code",
      "source": [
        "input (\"please enter your name:\")\n",
        "name=input(\"please enter your name:\")"
      ],
      "metadata": {
        "colab": {
          "base_uri": "https://localhost:8080/",
          "height": 321
        },
        "id": "FI6PyuFzjBvb",
        "outputId": "b17d5e2c-c3ec-4948-96ca-ea996c5dfbb0"
      },
      "execution_count": 24,
      "outputs": [
        {
          "name": "stdout",
          "output_type": "stream",
          "text": [
            "please enter your name:20\n"
          ]
        },
        {
          "output_type": "error",
          "ename": "KeyboardInterrupt",
          "evalue": "Interrupted by user",
          "traceback": [
            "\u001b[0;31m---------------------------------------------------------------------------\u001b[0m",
            "\u001b[0;31mKeyboardInterrupt\u001b[0m                         Traceback (most recent call last)",
            "\u001b[0;32m<ipython-input-24-5d29709a0c35>\u001b[0m in \u001b[0;36m<cell line: 2>\u001b[0;34m()\u001b[0m\n\u001b[1;32m      1\u001b[0m \u001b[0minput\u001b[0m \u001b[0;34m(\u001b[0m\u001b[0;34m\"please enter your name:\"\u001b[0m\u001b[0;34m)\u001b[0m\u001b[0;34m\u001b[0m\u001b[0;34m\u001b[0m\u001b[0m\n\u001b[0;32m----> 2\u001b[0;31m \u001b[0mname\u001b[0m\u001b[0;34m=\u001b[0m\u001b[0minput\u001b[0m\u001b[0;34m(\u001b[0m\u001b[0;34m\"please enter your name:\"\u001b[0m\u001b[0;34m)\u001b[0m\u001b[0;34m\u001b[0m\u001b[0;34m\u001b[0m\u001b[0m\n\u001b[0m",
            "\u001b[0;32m/usr/local/lib/python3.10/dist-packages/ipykernel/kernelbase.py\u001b[0m in \u001b[0;36mraw_input\u001b[0;34m(self, prompt)\u001b[0m\n\u001b[1;32m    849\u001b[0m                 \u001b[0;34m\"raw_input was called, but this frontend does not support input requests.\"\u001b[0m\u001b[0;34m\u001b[0m\u001b[0;34m\u001b[0m\u001b[0m\n\u001b[1;32m    850\u001b[0m             )\n\u001b[0;32m--> 851\u001b[0;31m         return self._input_request(str(prompt),\n\u001b[0m\u001b[1;32m    852\u001b[0m             \u001b[0mself\u001b[0m\u001b[0;34m.\u001b[0m\u001b[0m_parent_ident\u001b[0m\u001b[0;34m,\u001b[0m\u001b[0;34m\u001b[0m\u001b[0;34m\u001b[0m\u001b[0m\n\u001b[1;32m    853\u001b[0m             \u001b[0mself\u001b[0m\u001b[0;34m.\u001b[0m\u001b[0m_parent_header\u001b[0m\u001b[0;34m,\u001b[0m\u001b[0;34m\u001b[0m\u001b[0;34m\u001b[0m\u001b[0m\n",
            "\u001b[0;32m/usr/local/lib/python3.10/dist-packages/ipykernel/kernelbase.py\u001b[0m in \u001b[0;36m_input_request\u001b[0;34m(self, prompt, ident, parent, password)\u001b[0m\n\u001b[1;32m    893\u001b[0m             \u001b[0;32mexcept\u001b[0m \u001b[0mKeyboardInterrupt\u001b[0m\u001b[0;34m:\u001b[0m\u001b[0;34m\u001b[0m\u001b[0;34m\u001b[0m\u001b[0m\n\u001b[1;32m    894\u001b[0m                 \u001b[0;31m# re-raise KeyboardInterrupt, to truncate traceback\u001b[0m\u001b[0;34m\u001b[0m\u001b[0;34m\u001b[0m\u001b[0m\n\u001b[0;32m--> 895\u001b[0;31m                 \u001b[0;32mraise\u001b[0m \u001b[0mKeyboardInterrupt\u001b[0m\u001b[0;34m(\u001b[0m\u001b[0;34m\"Interrupted by user\"\u001b[0m\u001b[0;34m)\u001b[0m \u001b[0;32mfrom\u001b[0m \u001b[0;32mNone\u001b[0m\u001b[0;34m\u001b[0m\u001b[0;34m\u001b[0m\u001b[0m\n\u001b[0m\u001b[1;32m    896\u001b[0m             \u001b[0;32mexcept\u001b[0m \u001b[0mException\u001b[0m \u001b[0;32mas\u001b[0m \u001b[0me\u001b[0m\u001b[0;34m:\u001b[0m\u001b[0;34m\u001b[0m\u001b[0;34m\u001b[0m\u001b[0m\n\u001b[1;32m    897\u001b[0m                 \u001b[0mself\u001b[0m\u001b[0;34m.\u001b[0m\u001b[0mlog\u001b[0m\u001b[0;34m.\u001b[0m\u001b[0mwarning\u001b[0m\u001b[0;34m(\u001b[0m\u001b[0;34m\"Invalid Message:\"\u001b[0m\u001b[0;34m,\u001b[0m \u001b[0mexc_info\u001b[0m\u001b[0;34m=\u001b[0m\u001b[0;32mTrue\u001b[0m\u001b[0;34m)\u001b[0m\u001b[0;34m\u001b[0m\u001b[0;34m\u001b[0m\u001b[0m\n",
            "\u001b[0;31mKeyboardInterrupt\u001b[0m: Interrupted by user"
          ]
        }
      ]
    },
    {
      "cell_type": "code",
      "source": [],
      "metadata": {
        "id": "Az_qkdl_ixdo"
      },
      "execution_count": null,
      "outputs": []
    },
    {
      "cell_type": "code",
      "source": [
        "\"pleasec enter your name\": \"20\"\n",
        "\"name\": \"20\"\n",
        "type(name)"
      ],
      "metadata": {
        "colab": {
          "base_uri": "https://localhost:8080/",
          "height": 106
        },
        "id": "QBzSpr0WudOw",
        "outputId": "8c36f9ae-1083-4b29-f16a-828713029339"
      },
      "execution_count": 26,
      "outputs": [
        {
          "output_type": "error",
          "ename": "SyntaxError",
          "evalue": "illegal target for annotation (<ipython-input-26-d6dc57174a82>, line 1)",
          "traceback": [
            "\u001b[0;36m  File \u001b[0;32m\"<ipython-input-26-d6dc57174a82>\"\u001b[0;36m, line \u001b[0;32m1\u001b[0m\n\u001b[0;31m    \"pleasec enter your name\": \"20\"\u001b[0m\n\u001b[0m    ^\u001b[0m\n\u001b[0;31mSyntaxError\u001b[0m\u001b[0;31m:\u001b[0m illegal target for annotation\n"
          ]
        }
      ]
    },
    {
      "cell_type": "code",
      "source": [
        "input(\"please enter your name:\")\n",
        "name=input (\"please enter your name\")"
      ],
      "metadata": {
        "colab": {
          "base_uri": "https://localhost:8080/",
          "height": 304
        },
        "id": "FbcL2J7Gvmwx",
        "outputId": "36a8cbfb-6781-4813-b31c-58af7ddd75d3"
      },
      "execution_count": 31,
      "outputs": [
        {
          "output_type": "error",
          "ename": "KeyboardInterrupt",
          "evalue": "Interrupted by user",
          "traceback": [
            "\u001b[0;31m---------------------------------------------------------------------------\u001b[0m",
            "\u001b[0;31mKeyboardInterrupt\u001b[0m                         Traceback (most recent call last)",
            "\u001b[0;32m<ipython-input-31-a5a24323d520>\u001b[0m in \u001b[0;36m<cell line: 1>\u001b[0;34m()\u001b[0m\n\u001b[0;32m----> 1\u001b[0;31m \u001b[0minput\u001b[0m\u001b[0;34m(\u001b[0m\u001b[0;34m\"please enter your name:\"\u001b[0m\u001b[0;34m)\u001b[0m\u001b[0;34m\u001b[0m\u001b[0;34m\u001b[0m\u001b[0m\n\u001b[0m\u001b[1;32m      2\u001b[0m \u001b[0mname\u001b[0m\u001b[0;34m=\u001b[0m\u001b[0minput\u001b[0m \u001b[0;34m(\u001b[0m\u001b[0;34m\"please enter your name\"\u001b[0m\u001b[0;34m)\u001b[0m\u001b[0;34m\u001b[0m\u001b[0;34m\u001b[0m\u001b[0m\n",
            "\u001b[0;32m/usr/local/lib/python3.10/dist-packages/ipykernel/kernelbase.py\u001b[0m in \u001b[0;36mraw_input\u001b[0;34m(self, prompt)\u001b[0m\n\u001b[1;32m    849\u001b[0m                 \u001b[0;34m\"raw_input was called, but this frontend does not support input requests.\"\u001b[0m\u001b[0;34m\u001b[0m\u001b[0;34m\u001b[0m\u001b[0m\n\u001b[1;32m    850\u001b[0m             )\n\u001b[0;32m--> 851\u001b[0;31m         return self._input_request(str(prompt),\n\u001b[0m\u001b[1;32m    852\u001b[0m             \u001b[0mself\u001b[0m\u001b[0;34m.\u001b[0m\u001b[0m_parent_ident\u001b[0m\u001b[0;34m,\u001b[0m\u001b[0;34m\u001b[0m\u001b[0;34m\u001b[0m\u001b[0m\n\u001b[1;32m    853\u001b[0m             \u001b[0mself\u001b[0m\u001b[0;34m.\u001b[0m\u001b[0m_parent_header\u001b[0m\u001b[0;34m,\u001b[0m\u001b[0;34m\u001b[0m\u001b[0;34m\u001b[0m\u001b[0m\n",
            "\u001b[0;32m/usr/local/lib/python3.10/dist-packages/ipykernel/kernelbase.py\u001b[0m in \u001b[0;36m_input_request\u001b[0;34m(self, prompt, ident, parent, password)\u001b[0m\n\u001b[1;32m    893\u001b[0m             \u001b[0;32mexcept\u001b[0m \u001b[0mKeyboardInterrupt\u001b[0m\u001b[0;34m:\u001b[0m\u001b[0;34m\u001b[0m\u001b[0;34m\u001b[0m\u001b[0m\n\u001b[1;32m    894\u001b[0m                 \u001b[0;31m# re-raise KeyboardInterrupt, to truncate traceback\u001b[0m\u001b[0;34m\u001b[0m\u001b[0;34m\u001b[0m\u001b[0m\n\u001b[0;32m--> 895\u001b[0;31m                 \u001b[0;32mraise\u001b[0m \u001b[0mKeyboardInterrupt\u001b[0m\u001b[0;34m(\u001b[0m\u001b[0;34m\"Interrupted by user\"\u001b[0m\u001b[0;34m)\u001b[0m \u001b[0;32mfrom\u001b[0m \u001b[0;32mNone\u001b[0m\u001b[0;34m\u001b[0m\u001b[0;34m\u001b[0m\u001b[0m\n\u001b[0m\u001b[1;32m    896\u001b[0m             \u001b[0;32mexcept\u001b[0m \u001b[0mException\u001b[0m \u001b[0;32mas\u001b[0m \u001b[0me\u001b[0m\u001b[0;34m:\u001b[0m\u001b[0;34m\u001b[0m\u001b[0;34m\u001b[0m\u001b[0m\n\u001b[1;32m    897\u001b[0m                 \u001b[0mself\u001b[0m\u001b[0;34m.\u001b[0m\u001b[0mlog\u001b[0m\u001b[0;34m.\u001b[0m\u001b[0mwarning\u001b[0m\u001b[0;34m(\u001b[0m\u001b[0;34m\"Invalid Message:\"\u001b[0m\u001b[0;34m,\u001b[0m \u001b[0mexc_info\u001b[0m\u001b[0;34m=\u001b[0m\u001b[0;32mTrue\u001b[0m\u001b[0;34m)\u001b[0m\u001b[0;34m\u001b[0m\u001b[0;34m\u001b[0m\u001b[0m\n",
            "\u001b[0;31mKeyboardInterrupt\u001b[0m: Interrupted by user"
          ]
        }
      ]
    },
    {
      "cell_type": "code",
      "source": [
        "\"please enter your name\":20\n",
        "\"name\":20\n",
        "type('name')"
      ],
      "metadata": {
        "colab": {
          "base_uri": "https://localhost:8080/",
          "height": 106
        },
        "id": "bVM8WKKLwcwC",
        "outputId": "d42a0375-e64f-4a72-fa97-4b0ce6894b3f"
      },
      "execution_count": 28,
      "outputs": [
        {
          "output_type": "error",
          "ename": "SyntaxError",
          "evalue": "illegal target for annotation (<ipython-input-28-57202178ef63>, line 1)",
          "traceback": [
            "\u001b[0;36m  File \u001b[0;32m\"<ipython-input-28-57202178ef63>\"\u001b[0;36m, line \u001b[0;32m1\u001b[0m\n\u001b[0;31m    \"please enter your name\":20\u001b[0m\n\u001b[0m    ^\u001b[0m\n\u001b[0;31mSyntaxError\u001b[0m\u001b[0;31m:\u001b[0m illegal target for annotation\n"
          ]
        }
      ]
    },
    {
      "cell_type": "code",
      "source": [
        "input(\"please_enter_your_name\":)\n",
        "name=input(\"20\")"
      ],
      "metadata": {
        "colab": {
          "base_uri": "https://localhost:8080/",
          "height": 106
        },
        "id": "wqrxRl8fx-WK",
        "outputId": "a0b734bd-1bff-4a88-ec47-f332993e3ee5"
      },
      "execution_count": 34,
      "outputs": [
        {
          "output_type": "error",
          "ename": "SyntaxError",
          "evalue": "invalid syntax (<ipython-input-34-528f0c16845d>, line 1)",
          "traceback": [
            "\u001b[0;36m  File \u001b[0;32m\"<ipython-input-34-528f0c16845d>\"\u001b[0;36m, line \u001b[0;32m1\u001b[0m\n\u001b[0;31m    input(\"please_enter_your_name\":)\u001b[0m\n\u001b[0m                                  ^\u001b[0m\n\u001b[0;31mSyntaxError\u001b[0m\u001b[0;31m:\u001b[0m invalid syntax\n"
          ]
        }
      ]
    },
    {
      "cell_type": "code",
      "source": [],
      "metadata": {
        "id": "csLW6FihzBaw"
      },
      "execution_count": null,
      "outputs": []
    },
    {
      "cell_type": "markdown",
      "source": [
        "Q10)"
      ],
      "metadata": {
        "id": "qoRiQP2UyyT2"
      }
    },
    {
      "cell_type": "code",
      "source": [
        "def type_casting_with_list_elements():\n",
        "  #list with mixed types\n",
        "  mixed_list= [\"123\", 456, \"789.0\", True, \"False\"]\n",
        "\n",
        "  print (\"original list:\")\n",
        "  print (mixed_list)\n",
        "  print()\n",
        "\n",
        "  #convert each element to specefic type\n",
        "  print(\"type casting result:\")\n",
        "\n",
        "  #convert string to integer\n",
        "  int_result =int (mixed_list[0])    # \"123\" -> 123\n",
        "  print(f\"converting '{mixed_list[0]})' to int: {int_result}\")\n",
        "\n",
        "  #Keep integer as it\n",
        "  int_preserved =int (mixed_list[1])  #456 -> 456\n",
        "  print(f\"preserving{mixed_list[1]}      as int: {int_preserved}\")\n",
        "\n",
        "\n",
        "  #convert string to float\n",
        "  float_result = float(mixed_list[2])  #\"789.0\" -> 789.0\n",
        "  print(f\"converting '{mixed_list[2]}'  to float: {float_result}\")\n",
        "\n",
        "  #convert boolean to integer\n",
        "  bool_to_int = int(mixed_list[3])  #true->1\n",
        "  print(f\"converting  {mixed_list[3]}  to int: {bool_to_int}\")\n",
        "\n",
        "  #convert string to boolean\n",
        "  string_to_bool = bool(mixed_list[4])  #\"false\" -> true (non- empty strng)\n",
        "  print(f\"converting '{mixed_list[4]}'  to bool: {string_to_bool}\")\n",
        "\n",
        "\n"
      ],
      "metadata": {
        "id": "YzMyVo9fzDG2"
      },
      "execution_count": 35,
      "outputs": []
    },
    {
      "cell_type": "markdown",
      "source": [
        "Q11)"
      ],
      "metadata": {
        "id": "5ZO_tXV7DwXK"
      }
    },
    {
      "cell_type": "code",
      "source": [
        "def check_number_sign(number):\n",
        "  if number > 0:\n",
        "    print(f\"the number {number} is positive\")\n",
        "\n",
        "  elif number < 0:\n",
        "    print(f\"the number {number} is negative\")\n",
        "\n",
        "  else:\n",
        "    print (f\"the number {number} is zero\")\n",
        "\n",
        "#main code\n",
        "#test cases\n",
        "number= [10,  5,  100,  -50]\n",
        "\n",
        "print(\"checking numbers:\")\n",
        "for num in numbers:\n",
        "  check_number_sign(num)"
      ],
      "metadata": {
        "colab": {
          "base_uri": "https://localhost:8080/",
          "height": 211
        },
        "id": "GkhohtE8EKzQ",
        "outputId": "91ed3bff-0159-4e02-8931-89a429cf4c0e"
      },
      "execution_count": 36,
      "outputs": [
        {
          "output_type": "stream",
          "name": "stdout",
          "text": [
            "checking numbers:\n"
          ]
        },
        {
          "output_type": "error",
          "ename": "NameError",
          "evalue": "name 'numbers' is not defined",
          "traceback": [
            "\u001b[0;31m---------------------------------------------------------------------------\u001b[0m",
            "\u001b[0;31mNameError\u001b[0m                                 Traceback (most recent call last)",
            "\u001b[0;32m<ipython-input-36-af265d713460>\u001b[0m in \u001b[0;36m<cell line: 16>\u001b[0;34m()\u001b[0m\n\u001b[1;32m     14\u001b[0m \u001b[0;34m\u001b[0m\u001b[0m\n\u001b[1;32m     15\u001b[0m \u001b[0mprint\u001b[0m\u001b[0;34m(\u001b[0m\u001b[0;34m\"checking numbers:\"\u001b[0m\u001b[0;34m)\u001b[0m\u001b[0;34m\u001b[0m\u001b[0;34m\u001b[0m\u001b[0m\n\u001b[0;32m---> 16\u001b[0;31m \u001b[0;32mfor\u001b[0m \u001b[0mnum\u001b[0m \u001b[0;32min\u001b[0m \u001b[0mnumbers\u001b[0m\u001b[0;34m:\u001b[0m\u001b[0;34m\u001b[0m\u001b[0;34m\u001b[0m\u001b[0m\n\u001b[0m\u001b[1;32m     17\u001b[0m   \u001b[0mcheck_number_sign\u001b[0m\u001b[0;34m(\u001b[0m\u001b[0mnum\u001b[0m\u001b[0;34m)\u001b[0m\u001b[0;34m\u001b[0m\u001b[0;34m\u001b[0m\u001b[0m\n",
            "\u001b[0;31mNameError\u001b[0m: name 'numbers' is not defined"
          ]
        }
      ]
    },
    {
      "cell_type": "markdown",
      "source": [
        "Q12)"
      ],
      "metadata": {
        "id": "tvUBxcPyGnND"
      }
    },
    {
      "cell_type": "code",
      "source": [
        "# for loop to print from 1 to 10\n",
        "for number in range (1, 11):  #range(1, 11) generates numbers from 1 to 10\n",
        "    print(number)"
      ],
      "metadata": {
        "colab": {
          "base_uri": "https://localhost:8080/"
        },
        "id": "P_saUh7fGp7l",
        "outputId": "c6dbb251-0496-4ebc-f9d5-0c0d29cd1398"
      },
      "execution_count": 39,
      "outputs": [
        {
          "output_type": "stream",
          "name": "stdout",
          "text": [
            "1\n",
            "2\n",
            "3\n",
            "4\n",
            "5\n",
            "6\n",
            "7\n",
            "8\n",
            "9\n",
            "10\n"
          ]
        }
      ]
    },
    {
      "cell_type": "code",
      "source": [],
      "metadata": {
        "id": "Q4MSPef_Gmuq"
      },
      "execution_count": null,
      "outputs": []
    }
  ]
}